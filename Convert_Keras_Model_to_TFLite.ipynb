{
  "nbformat": 4,
  "nbformat_minor": 0,
  "metadata": {
    "colab": {
      "provenance": [],
      "gpuType": "T4",
      "authorship_tag": "ABX9TyP3K/VtNJbJyGejhgyNRulO",
      "include_colab_link": true
    },
    "kernelspec": {
      "name": "python3",
      "display_name": "Python 3"
    },
    "language_info": {
      "name": "python"
    },
    "accelerator": "GPU"
  },
  "cells": [
    {
      "cell_type": "markdown",
      "metadata": {
        "id": "view-in-github",
        "colab_type": "text"
      },
      "source": [
        "<a href=\"https://colab.research.google.com/github/S-Delowar/PlantVision-TF-TL/blob/main/Convert_Keras_Model_to_TFLite.ipynb\" target=\"_parent\"><img src=\"https://colab.research.google.com/assets/colab-badge.svg\" alt=\"Open In Colab\"/></a>"
      ]
    },
    {
      "cell_type": "code",
      "execution_count": 1,
      "metadata": {
        "colab": {
          "base_uri": "https://localhost:8080/"
        },
        "id": "PTaC2V1AX0_6",
        "outputId": "0fc6fc1a-be4e-464d-ee78-b4c65a007e71"
      },
      "outputs": [
        {
          "output_type": "stream",
          "name": "stdout",
          "text": [
            "Drive already mounted at /content/drive; to attempt to forcibly remount, call drive.mount(\"/content/drive\", force_remount=True).\n"
          ]
        }
      ],
      "source": [
        "from google.colab import drive\n",
        "\n",
        "# Mount Google Drive\n",
        "drive.mount('/content/drive')"
      ]
    },
    {
      "cell_type": "code",
      "source": [
        "KERAS_MODEL_PATH = \"/content/drive/MyDrive/TensorFlow_Projects/PlantVision_Project/model_checkpoints/best_102_flowes_model_fine_tuned_2.keras\"\n",
        "TFLITE_MODEL_PATH = \"/content/drive/MyDrive/TensorFlow_Projects/PlantVision_Project/model_checkpoints/best_102_flowes_model_fine_tuned_2.tflite\""
      ],
      "metadata": {
        "id": "dmdc6fkRYdyk"
      },
      "execution_count": 2,
      "outputs": []
    },
    {
      "cell_type": "code",
      "source": [
        "import tensorflow as tf"
      ],
      "metadata": {
        "id": "Z81uNodBZIW7"
      },
      "execution_count": 3,
      "outputs": []
    },
    {
      "cell_type": "code",
      "source": [
        "# Load keras model\n",
        "keras_model = tf.keras.models.load_model(KERAS_MODEL_PATH)"
      ],
      "metadata": {
        "colab": {
          "base_uri": "https://localhost:8080/"
        },
        "id": "sDoZ4KOXZDR1",
        "outputId": "aec12691-a430-4508-f96c-3b0ecf39cedb"
      },
      "execution_count": 4,
      "outputs": [
        {
          "output_type": "stream",
          "name": "stderr",
          "text": [
            "/usr/local/lib/python3.11/dist-packages/keras/src/saving/saving_lib.py:757: UserWarning: Skipping variable loading for optimizer 'adam', because it has 26 variables whereas the saved optimizer has 30 variables. \n",
            "  saveable.load_own_variables(weights_store.get(inner_path))\n"
          ]
        }
      ]
    },
    {
      "cell_type": "code",
      "source": [
        "# Converting from keras to tflite formate\n",
        "converter = tf.lite.TFLiteConverter.from_keras_model(keras_model)\n",
        "converter.optimizations = [tf.lite.Optimize.DEFAULT]\n",
        "converter.target_spec.supported_ops = [\n",
        "        tf.lite.OpsSet.TFLITE_BUILTINS,\n",
        "        tf.lite.OpsSet.SELECT_TF_OPS\n",
        "    ]\n",
        "\n",
        "tflite_model = converter.convert()"
      ],
      "metadata": {
        "colab": {
          "base_uri": "https://localhost:8080/"
        },
        "id": "WnWEwD4vZSjr",
        "outputId": "d535de60-34f6-4b0f-d49a-cf25a0c5e495"
      },
      "execution_count": 5,
      "outputs": [
        {
          "output_type": "stream",
          "name": "stdout",
          "text": [
            "Saved artifact at '/tmp/tmpg8nn63ta'. The following endpoints are available:\n",
            "\n",
            "* Endpoint 'serve'\n",
            "  args_0 (POSITIONAL_ONLY): TensorSpec(shape=(None, 300, 300, 3), dtype=tf.float32, name='input_layer')\n",
            "Output Type:\n",
            "  TensorSpec(shape=(None, 102), dtype=tf.float32, name=None)\n",
            "Captures:\n",
            "  132065412150096: TensorSpec(shape=(1, 1, 1, 3), dtype=tf.float16, name=None)\n",
            "  132065412149520: TensorSpec(shape=(1, 1, 1, 3), dtype=tf.float16, name=None)\n",
            "  132066093971408: TensorSpec(shape=(), dtype=tf.resource, name=None)\n",
            "  132066077738000: TensorSpec(shape=(), dtype=tf.resource, name=None)\n",
            "  132066077738576: TensorSpec(shape=(), dtype=tf.resource, name=None)\n",
            "  132066093972176: TensorSpec(shape=(), dtype=tf.resource, name=None)\n",
            "  132066093973328: TensorSpec(shape=(), dtype=tf.resource, name=None)\n",
            "  132066077738384: TensorSpec(shape=(), dtype=tf.resource, name=None)\n",
            "  132066077739920: TensorSpec(shape=(), dtype=tf.resource, name=None)\n",
            "  132066077740880: TensorSpec(shape=(), dtype=tf.resource, name=None)\n",
            "  132066077740112: TensorSpec(shape=(), dtype=tf.resource, name=None)\n",
            "  132066077737424: TensorSpec(shape=(), dtype=tf.resource, name=None)\n",
            "  132066077740688: TensorSpec(shape=(), dtype=tf.resource, name=None)\n",
            "  132066077742416: TensorSpec(shape=(), dtype=tf.resource, name=None)\n",
            "  132066077742608: TensorSpec(shape=(), dtype=tf.resource, name=None)\n",
            "  132066077743376: TensorSpec(shape=(), dtype=tf.resource, name=None)\n",
            "  132066077740304: TensorSpec(shape=(), dtype=tf.resource, name=None)\n",
            "  132066077744144: TensorSpec(shape=(), dtype=tf.resource, name=None)\n",
            "  132066077744912: TensorSpec(shape=(), dtype=tf.resource, name=None)\n",
            "  132066077743760: TensorSpec(shape=(), dtype=tf.resource, name=None)\n",
            "  132066077743568: TensorSpec(shape=(), dtype=tf.resource, name=None)\n",
            "  132066077745872: TensorSpec(shape=(), dtype=tf.resource, name=None)\n",
            "  132066077745104: TensorSpec(shape=(), dtype=tf.resource, name=None)\n",
            "  132066077743184: TensorSpec(shape=(), dtype=tf.resource, name=None)\n",
            "  132066077745488: TensorSpec(shape=(), dtype=tf.resource, name=None)\n",
            "  132066077746832: TensorSpec(shape=(), dtype=tf.resource, name=None)\n",
            "  132066077747984: TensorSpec(shape=(), dtype=tf.resource, name=None)\n",
            "  132066077748176: TensorSpec(shape=(), dtype=tf.resource, name=None)\n",
            "  132066077746064: TensorSpec(shape=(), dtype=tf.resource, name=None)\n",
            "  132066077748560: TensorSpec(shape=(), dtype=tf.resource, name=None)\n",
            "  132066077749136: TensorSpec(shape=(), dtype=tf.resource, name=None)\n",
            "  132066077746448: TensorSpec(shape=(), dtype=tf.resource, name=None)\n",
            "  132066077749712: TensorSpec(shape=(), dtype=tf.resource, name=None)\n",
            "  132066077749328: TensorSpec(shape=(), dtype=tf.resource, name=None)\n",
            "  132066077750672: TensorSpec(shape=(), dtype=tf.resource, name=None)\n",
            "  132066077751056: TensorSpec(shape=(), dtype=tf.resource, name=None)\n",
            "  132066077752976: TensorSpec(shape=(), dtype=tf.resource, name=None)\n",
            "  132066077752784: TensorSpec(shape=(), dtype=tf.resource, name=None)\n",
            "  132066077752400: TensorSpec(shape=(), dtype=tf.resource, name=None)\n",
            "  132066077750288: TensorSpec(shape=(), dtype=tf.resource, name=None)\n",
            "  132066077753168: TensorSpec(shape=(), dtype=tf.resource, name=None)\n",
            "  132066078213328: TensorSpec(shape=(), dtype=tf.resource, name=None)\n",
            "  132066078214096: TensorSpec(shape=(), dtype=tf.resource, name=None)\n",
            "  132066078213520: TensorSpec(shape=(), dtype=tf.resource, name=None)\n",
            "  132066078212368: TensorSpec(shape=(), dtype=tf.resource, name=None)\n",
            "  132066078215056: TensorSpec(shape=(), dtype=tf.resource, name=None)\n",
            "  132066078215248: TensorSpec(shape=(), dtype=tf.resource, name=None)\n",
            "  132066078213904: TensorSpec(shape=(), dtype=tf.resource, name=None)\n",
            "  132066078215632: TensorSpec(shape=(), dtype=tf.resource, name=None)\n",
            "  132066078212752: TensorSpec(shape=(), dtype=tf.resource, name=None)\n",
            "  132066078216784: TensorSpec(shape=(), dtype=tf.resource, name=None)\n",
            "  132066078217552: TensorSpec(shape=(), dtype=tf.resource, name=None)\n",
            "  132066078216400: TensorSpec(shape=(), dtype=tf.resource, name=None)\n",
            "  132066078216208: TensorSpec(shape=(), dtype=tf.resource, name=None)\n",
            "  132066078218512: TensorSpec(shape=(), dtype=tf.resource, name=None)\n",
            "  132066078218128: TensorSpec(shape=(), dtype=tf.resource, name=None)\n",
            "  132066078219472: TensorSpec(shape=(), dtype=tf.resource, name=None)\n",
            "  132066078218704: TensorSpec(shape=(), dtype=tf.resource, name=None)\n",
            "  132066078215440: TensorSpec(shape=(), dtype=tf.resource, name=None)\n",
            "  132066078220432: TensorSpec(shape=(), dtype=tf.resource, name=None)\n",
            "  132066078220048: TensorSpec(shape=(), dtype=tf.resource, name=None)\n",
            "  132066078221392: TensorSpec(shape=(), dtype=tf.resource, name=None)\n",
            "  132066078220624: TensorSpec(shape=(), dtype=tf.resource, name=None)\n",
            "  132066078212176: TensorSpec(shape=(), dtype=tf.resource, name=None)\n",
            "  132066078222352: TensorSpec(shape=(), dtype=tf.resource, name=None)\n",
            "  132066078222544: TensorSpec(shape=(), dtype=tf.resource, name=None)\n",
            "  132066078220816: TensorSpec(shape=(), dtype=tf.resource, name=None)\n",
            "  132066078222928: TensorSpec(shape=(), dtype=tf.resource, name=None)\n",
            "  132066078218896: TensorSpec(shape=(), dtype=tf.resource, name=None)\n",
            "  132066078224080: TensorSpec(shape=(), dtype=tf.resource, name=None)\n",
            "  132066078224848: TensorSpec(shape=(), dtype=tf.resource, name=None)\n",
            "  132066078223696: TensorSpec(shape=(), dtype=tf.resource, name=None)\n",
            "  132066078223504: TensorSpec(shape=(), dtype=tf.resource, name=None)\n",
            "  132066078224272: TensorSpec(shape=(), dtype=tf.resource, name=None)\n",
            "  132066078226192: TensorSpec(shape=(), dtype=tf.resource, name=None)\n",
            "  132066078227152: TensorSpec(shape=(), dtype=tf.resource, name=None)\n",
            "  132066078226384: TensorSpec(shape=(), dtype=tf.resource, name=None)\n",
            "  132066078225040: TensorSpec(shape=(), dtype=tf.resource, name=None)\n",
            "  132066078228112: TensorSpec(shape=(), dtype=tf.resource, name=None)\n",
            "  132066078227728: TensorSpec(shape=(), dtype=tf.resource, name=None)\n",
            "  132066017346000: TensorSpec(shape=(), dtype=tf.resource, name=None)\n",
            "  132066078226576: TensorSpec(shape=(), dtype=tf.resource, name=None)\n",
            "  132066078225424: TensorSpec(shape=(), dtype=tf.resource, name=None)\n",
            "  132066017347152: TensorSpec(shape=(), dtype=tf.resource, name=None)\n",
            "  132066017347344: TensorSpec(shape=(), dtype=tf.resource, name=None)\n",
            "  132066017346768: TensorSpec(shape=(), dtype=tf.resource, name=None)\n",
            "  132066017347728: TensorSpec(shape=(), dtype=tf.resource, name=None)\n",
            "  132066017346576: TensorSpec(shape=(), dtype=tf.resource, name=None)\n",
            "  132066017348880: TensorSpec(shape=(), dtype=tf.resource, name=None)\n",
            "  132066017349648: TensorSpec(shape=(), dtype=tf.resource, name=None)\n",
            "  132066017348496: TensorSpec(shape=(), dtype=tf.resource, name=None)\n",
            "  132066017348304: TensorSpec(shape=(), dtype=tf.resource, name=None)\n",
            "  132066017349072: TensorSpec(shape=(), dtype=tf.resource, name=None)\n",
            "  132066017350992: TensorSpec(shape=(), dtype=tf.resource, name=None)\n",
            "  132066017351952: TensorSpec(shape=(), dtype=tf.resource, name=None)\n",
            "  132066017351184: TensorSpec(shape=(), dtype=tf.resource, name=None)\n",
            "  132066017349840: TensorSpec(shape=(), dtype=tf.resource, name=None)\n",
            "  132066017352912: TensorSpec(shape=(), dtype=tf.resource, name=None)\n",
            "  132066017352528: TensorSpec(shape=(), dtype=tf.resource, name=None)\n",
            "  132066017353872: TensorSpec(shape=(), dtype=tf.resource, name=None)\n",
            "  132066017353104: TensorSpec(shape=(), dtype=tf.resource, name=None)\n",
            "  132066017350800: TensorSpec(shape=(), dtype=tf.resource, name=None)\n",
            "  132066017354832: TensorSpec(shape=(), dtype=tf.resource, name=None)\n",
            "  132066017355024: TensorSpec(shape=(), dtype=tf.resource, name=None)\n",
            "  132066017353296: TensorSpec(shape=(), dtype=tf.resource, name=None)\n",
            "  132066017355408: TensorSpec(shape=(), dtype=tf.resource, name=None)\n",
            "  132066017351376: TensorSpec(shape=(), dtype=tf.resource, name=None)\n",
            "  132066017356560: TensorSpec(shape=(), dtype=tf.resource, name=None)\n",
            "  132066017357328: TensorSpec(shape=(), dtype=tf.resource, name=None)\n",
            "  132066017356176: TensorSpec(shape=(), dtype=tf.resource, name=None)\n",
            "  132066017355984: TensorSpec(shape=(), dtype=tf.resource, name=None)\n",
            "  132066017358288: TensorSpec(shape=(), dtype=tf.resource, name=None)\n",
            "  132066017357904: TensorSpec(shape=(), dtype=tf.resource, name=None)\n",
            "  132066017359248: TensorSpec(shape=(), dtype=tf.resource, name=None)\n",
            "  132066017358480: TensorSpec(shape=(), dtype=tf.resource, name=None)\n",
            "  132066017355216: TensorSpec(shape=(), dtype=tf.resource, name=None)\n",
            "  132066017360208: TensorSpec(shape=(), dtype=tf.resource, name=None)\n",
            "  132066017359824: TensorSpec(shape=(), dtype=tf.resource, name=None)\n",
            "  132066017361168: TensorSpec(shape=(), dtype=tf.resource, name=None)\n",
            "  132066017360400: TensorSpec(shape=(), dtype=tf.resource, name=None)\n",
            "  132066017350224: TensorSpec(shape=(), dtype=tf.resource, name=None)\n",
            "  132066017360976: TensorSpec(shape=(), dtype=tf.resource, name=None)\n",
            "  132066017361744: TensorSpec(shape=(), dtype=tf.resource, name=None)\n",
            "  132066017356752: TensorSpec(shape=(), dtype=tf.resource, name=None)\n",
            "  132066017838480: TensorSpec(shape=(), dtype=tf.resource, name=None)\n",
            "  132066017837712: TensorSpec(shape=(), dtype=tf.resource, name=None)\n",
            "  132066017839056: TensorSpec(shape=(), dtype=tf.resource, name=None)\n",
            "  132066017839824: TensorSpec(shape=(), dtype=tf.resource, name=None)\n",
            "  132066017838672: TensorSpec(shape=(), dtype=tf.resource, name=None)\n",
            "  132066017838864: TensorSpec(shape=(), dtype=tf.resource, name=None)\n",
            "  132066017837136: TensorSpec(shape=(), dtype=tf.resource, name=None)\n",
            "  132066017841360: TensorSpec(shape=(), dtype=tf.resource, name=None)\n",
            "  132066017842320: TensorSpec(shape=(), dtype=tf.resource, name=None)\n",
            "  132066017841552: TensorSpec(shape=(), dtype=tf.resource, name=None)\n",
            "  132066017840784: TensorSpec(shape=(), dtype=tf.resource, name=None)\n",
            "  132066017843280: TensorSpec(shape=(), dtype=tf.resource, name=None)\n",
            "  132066017842896: TensorSpec(shape=(), dtype=tf.resource, name=None)\n",
            "  132066017844240: TensorSpec(shape=(), dtype=tf.resource, name=None)\n",
            "  132066017843472: TensorSpec(shape=(), dtype=tf.resource, name=None)\n",
            "  132066017841168: TensorSpec(shape=(), dtype=tf.resource, name=None)\n",
            "  132066017845200: TensorSpec(shape=(), dtype=tf.resource, name=None)\n",
            "  132066017845392: TensorSpec(shape=(), dtype=tf.resource, name=None)\n",
            "  132066017843664: TensorSpec(shape=(), dtype=tf.resource, name=None)\n",
            "  132066017845776: TensorSpec(shape=(), dtype=tf.resource, name=None)\n",
            "  132066017841744: TensorSpec(shape=(), dtype=tf.resource, name=None)\n",
            "  132066017846928: TensorSpec(shape=(), dtype=tf.resource, name=None)\n",
            "  132066017847696: TensorSpec(shape=(), dtype=tf.resource, name=None)\n",
            "  132066017846544: TensorSpec(shape=(), dtype=tf.resource, name=None)\n",
            "  132066017846352: TensorSpec(shape=(), dtype=tf.resource, name=None)\n",
            "  132066017840976: TensorSpec(shape=(), dtype=tf.resource, name=None)\n",
            "  132066017849232: TensorSpec(shape=(), dtype=tf.resource, name=None)\n",
            "  132066017850192: TensorSpec(shape=(), dtype=tf.resource, name=None)\n",
            "  132066017849424: TensorSpec(shape=(), dtype=tf.resource, name=None)\n",
            "  132066017848656: TensorSpec(shape=(), dtype=tf.resource, name=None)\n",
            "  132066017851152: TensorSpec(shape=(), dtype=tf.resource, name=None)\n",
            "  132066017850768: TensorSpec(shape=(), dtype=tf.resource, name=None)\n",
            "  132066017852112: TensorSpec(shape=(), dtype=tf.resource, name=None)\n",
            "  132066017851344: TensorSpec(shape=(), dtype=tf.resource, name=None)\n",
            "  132066017849040: TensorSpec(shape=(), dtype=tf.resource, name=None)\n",
            "  132066017853072: TensorSpec(shape=(), dtype=tf.resource, name=None)\n",
            "  132066017851536: TensorSpec(shape=(), dtype=tf.resource, name=None)\n",
            "  132066017853264: TensorSpec(shape=(), dtype=tf.resource, name=None)\n",
            "  132066017848848: TensorSpec(shape=(), dtype=tf.resource, name=None)\n",
            "  132065740931344: TensorSpec(shape=(), dtype=tf.resource, name=None)\n",
            "  132065740932304: TensorSpec(shape=(), dtype=tf.resource, name=None)\n",
            "  132065740933264: TensorSpec(shape=(), dtype=tf.resource, name=None)\n",
            "  132065740932496: TensorSpec(shape=(), dtype=tf.resource, name=None)\n",
            "  132065740931536: TensorSpec(shape=(), dtype=tf.resource, name=None)\n",
            "  132065740934224: TensorSpec(shape=(), dtype=tf.resource, name=None)\n",
            "  132065740933840: TensorSpec(shape=(), dtype=tf.resource, name=None)\n",
            "  132065740935184: TensorSpec(shape=(), dtype=tf.resource, name=None)\n",
            "  132065740934416: TensorSpec(shape=(), dtype=tf.resource, name=None)\n",
            "  132065740932112: TensorSpec(shape=(), dtype=tf.resource, name=None)\n",
            "  132065740936144: TensorSpec(shape=(), dtype=tf.resource, name=None)\n",
            "  132065740935760: TensorSpec(shape=(), dtype=tf.resource, name=None)\n",
            "  132065740937104: TensorSpec(shape=(), dtype=tf.resource, name=None)\n",
            "  132065740936336: TensorSpec(shape=(), dtype=tf.resource, name=None)\n",
            "  132065740931920: TensorSpec(shape=(), dtype=tf.resource, name=None)\n",
            "  132065740938064: TensorSpec(shape=(), dtype=tf.resource, name=None)\n",
            "  132065740938256: TensorSpec(shape=(), dtype=tf.resource, name=None)\n",
            "  132065740936528: TensorSpec(shape=(), dtype=tf.resource, name=None)\n",
            "  132065740938640: TensorSpec(shape=(), dtype=tf.resource, name=None)\n",
            "  132065740934608: TensorSpec(shape=(), dtype=tf.resource, name=None)\n",
            "  132065740939792: TensorSpec(shape=(), dtype=tf.resource, name=None)\n",
            "  132065740940560: TensorSpec(shape=(), dtype=tf.resource, name=None)\n",
            "  132065740939408: TensorSpec(shape=(), dtype=tf.resource, name=None)\n",
            "  132065740939216: TensorSpec(shape=(), dtype=tf.resource, name=None)\n",
            "  132065740939984: TensorSpec(shape=(), dtype=tf.resource, name=None)\n",
            "  132065740941904: TensorSpec(shape=(), dtype=tf.resource, name=None)\n",
            "  132065740942864: TensorSpec(shape=(), dtype=tf.resource, name=None)\n",
            "  132065740942096: TensorSpec(shape=(), dtype=tf.resource, name=None)\n",
            "  132065740940752: TensorSpec(shape=(), dtype=tf.resource, name=None)\n",
            "  132065740943824: TensorSpec(shape=(), dtype=tf.resource, name=None)\n",
            "  132065740943440: TensorSpec(shape=(), dtype=tf.resource, name=None)\n",
            "  132065740944784: TensorSpec(shape=(), dtype=tf.resource, name=None)\n",
            "  132065740944016: TensorSpec(shape=(), dtype=tf.resource, name=None)\n",
            "  132065740941712: TensorSpec(shape=(), dtype=tf.resource, name=None)\n",
            "  132065740945744: TensorSpec(shape=(), dtype=tf.resource, name=None)\n",
            "  132065740945936: TensorSpec(shape=(), dtype=tf.resource, name=None)\n",
            "  132065740944208: TensorSpec(shape=(), dtype=tf.resource, name=None)\n",
            "  132065740946704: TensorSpec(shape=(), dtype=tf.resource, name=None)\n",
            "  132065740947088: TensorSpec(shape=(), dtype=tf.resource, name=None)\n",
            "  132065740946320: TensorSpec(shape=(), dtype=tf.resource, name=None)\n",
            "  132065741390672: TensorSpec(shape=(), dtype=tf.resource, name=None)\n",
            "  132065740947280: TensorSpec(shape=(), dtype=tf.resource, name=None)\n",
            "  132065740946128: TensorSpec(shape=(), dtype=tf.resource, name=None)\n",
            "  132065741390480: TensorSpec(shape=(), dtype=tf.resource, name=None)\n",
            "  132065741392016: TensorSpec(shape=(), dtype=tf.resource, name=None)\n",
            "  132065741392976: TensorSpec(shape=(), dtype=tf.resource, name=None)\n",
            "  132065741392208: TensorSpec(shape=(), dtype=tf.resource, name=None)\n",
            "  132065741390288: TensorSpec(shape=(), dtype=tf.resource, name=None)\n",
            "  132065741393936: TensorSpec(shape=(), dtype=tf.resource, name=None)\n",
            "  132065741393552: TensorSpec(shape=(), dtype=tf.resource, name=None)\n",
            "  132065741394896: TensorSpec(shape=(), dtype=tf.resource, name=None)\n",
            "  132065741394128: TensorSpec(shape=(), dtype=tf.resource, name=None)\n",
            "  132065741391824: TensorSpec(shape=(), dtype=tf.resource, name=None)\n",
            "  132065741395856: TensorSpec(shape=(), dtype=tf.resource, name=None)\n",
            "  132065741396048: TensorSpec(shape=(), dtype=tf.resource, name=None)\n",
            "  132065741394320: TensorSpec(shape=(), dtype=tf.resource, name=None)\n",
            "  132065741396432: TensorSpec(shape=(), dtype=tf.resource, name=None)\n",
            "  132065741392400: TensorSpec(shape=(), dtype=tf.resource, name=None)\n",
            "  132065741397584: TensorSpec(shape=(), dtype=tf.resource, name=None)\n",
            "  132065741398352: TensorSpec(shape=(), dtype=tf.resource, name=None)\n",
            "  132065741397200: TensorSpec(shape=(), dtype=tf.resource, name=None)\n",
            "  132065741397008: TensorSpec(shape=(), dtype=tf.resource, name=None)\n",
            "  132065741397776: TensorSpec(shape=(), dtype=tf.resource, name=None)\n",
            "  132065741399696: TensorSpec(shape=(), dtype=tf.resource, name=None)\n",
            "  132065741400656: TensorSpec(shape=(), dtype=tf.resource, name=None)\n",
            "  132065741399888: TensorSpec(shape=(), dtype=tf.resource, name=None)\n",
            "  132065741398544: TensorSpec(shape=(), dtype=tf.resource, name=None)\n",
            "  132065741401616: TensorSpec(shape=(), dtype=tf.resource, name=None)\n",
            "  132065741401232: TensorSpec(shape=(), dtype=tf.resource, name=None)\n",
            "  132065741402576: TensorSpec(shape=(), dtype=tf.resource, name=None)\n",
            "  132065741401808: TensorSpec(shape=(), dtype=tf.resource, name=None)\n",
            "  132065741399504: TensorSpec(shape=(), dtype=tf.resource, name=None)\n",
            "  132065741403536: TensorSpec(shape=(), dtype=tf.resource, name=None)\n",
            "  132065741403728: TensorSpec(shape=(), dtype=tf.resource, name=None)\n",
            "  132065741402000: TensorSpec(shape=(), dtype=tf.resource, name=None)\n",
            "  132065741404112: TensorSpec(shape=(), dtype=tf.resource, name=None)\n",
            "  132065741398928: TensorSpec(shape=(), dtype=tf.resource, name=None)\n",
            "  132065741405072: TensorSpec(shape=(), dtype=tf.resource, name=None)\n",
            "  132065741404496: TensorSpec(shape=(), dtype=tf.resource, name=None)\n",
            "  132065741406032: TensorSpec(shape=(), dtype=tf.resource, name=None)\n",
            "  132065741403920: TensorSpec(shape=(), dtype=tf.resource, name=None)\n",
            "  132065682096208: TensorSpec(shape=(), dtype=tf.resource, name=None)\n",
            "  132065682097360: TensorSpec(shape=(), dtype=tf.resource, name=None)\n",
            "  132065682098320: TensorSpec(shape=(), dtype=tf.resource, name=None)\n",
            "  132065682097552: TensorSpec(shape=(), dtype=tf.resource, name=None)\n",
            "  132065682096592: TensorSpec(shape=(), dtype=tf.resource, name=None)\n",
            "  132065682099280: TensorSpec(shape=(), dtype=tf.resource, name=None)\n",
            "  132065682098896: TensorSpec(shape=(), dtype=tf.resource, name=None)\n",
            "  132065682100240: TensorSpec(shape=(), dtype=tf.resource, name=None)\n",
            "  132065682099472: TensorSpec(shape=(), dtype=tf.resource, name=None)\n",
            "  132065682097168: TensorSpec(shape=(), dtype=tf.resource, name=None)\n",
            "  132065682101200: TensorSpec(shape=(), dtype=tf.resource, name=None)\n",
            "  132065682101392: TensorSpec(shape=(), dtype=tf.resource, name=None)\n",
            "  132065682099664: TensorSpec(shape=(), dtype=tf.resource, name=None)\n",
            "  132065682101776: TensorSpec(shape=(), dtype=tf.resource, name=None)\n",
            "  132065682097744: TensorSpec(shape=(), dtype=tf.resource, name=None)\n",
            "  132065682102928: TensorSpec(shape=(), dtype=tf.resource, name=None)\n",
            "  132065682103696: TensorSpec(shape=(), dtype=tf.resource, name=None)\n",
            "  132065682102544: TensorSpec(shape=(), dtype=tf.resource, name=None)\n",
            "  132065682102352: TensorSpec(shape=(), dtype=tf.resource, name=None)\n",
            "  132065682104656: TensorSpec(shape=(), dtype=tf.resource, name=None)\n",
            "  132065682104272: TensorSpec(shape=(), dtype=tf.resource, name=None)\n",
            "  132065682105616: TensorSpec(shape=(), dtype=tf.resource, name=None)\n",
            "  132065682104848: TensorSpec(shape=(), dtype=tf.resource, name=None)\n",
            "  132065682101584: TensorSpec(shape=(), dtype=tf.resource, name=None)\n",
            "  132065682106576: TensorSpec(shape=(), dtype=tf.resource, name=None)\n",
            "  132065682106192: TensorSpec(shape=(), dtype=tf.resource, name=None)\n",
            "  132065682107536: TensorSpec(shape=(), dtype=tf.resource, name=None)\n",
            "  132065682106768: TensorSpec(shape=(), dtype=tf.resource, name=None)\n",
            "  132065682096976: TensorSpec(shape=(), dtype=tf.resource, name=None)\n",
            "  132065682108496: TensorSpec(shape=(), dtype=tf.resource, name=None)\n",
            "  132065682108688: TensorSpec(shape=(), dtype=tf.resource, name=None)\n",
            "  132065682106960: TensorSpec(shape=(), dtype=tf.resource, name=None)\n",
            "  132065682109072: TensorSpec(shape=(), dtype=tf.resource, name=None)\n",
            "  132065682105040: TensorSpec(shape=(), dtype=tf.resource, name=None)\n",
            "  132065682110224: TensorSpec(shape=(), dtype=tf.resource, name=None)\n",
            "  132065682110992: TensorSpec(shape=(), dtype=tf.resource, name=None)\n",
            "  132065682109840: TensorSpec(shape=(), dtype=tf.resource, name=None)\n",
            "  132065682109648: TensorSpec(shape=(), dtype=tf.resource, name=None)\n",
            "  132065682110416: TensorSpec(shape=(), dtype=tf.resource, name=None)\n",
            "  132065682111184: TensorSpec(shape=(), dtype=tf.resource, name=None)\n",
            "  132065682457424: TensorSpec(shape=(), dtype=tf.resource, name=None)\n",
            "  132065682111568: TensorSpec(shape=(), dtype=tf.resource, name=None)\n",
            "  132065682112144: TensorSpec(shape=(), dtype=tf.resource, name=None)\n",
            "  132065682458384: TensorSpec(shape=(), dtype=tf.resource, name=None)\n",
            "  132065682458000: TensorSpec(shape=(), dtype=tf.resource, name=None)\n",
            "  132065682459344: TensorSpec(shape=(), dtype=tf.resource, name=None)\n",
            "  132065682458576: TensorSpec(shape=(), dtype=tf.resource, name=None)\n",
            "  132065682457616: TensorSpec(shape=(), dtype=tf.resource, name=None)\n",
            "  132065682460304: TensorSpec(shape=(), dtype=tf.resource, name=None)\n",
            "  132065682460496: TensorSpec(shape=(), dtype=tf.resource, name=None)\n",
            "  132065682458768: TensorSpec(shape=(), dtype=tf.resource, name=None)\n",
            "  132065682460880: TensorSpec(shape=(), dtype=tf.resource, name=None)\n",
            "  132065682457232: TensorSpec(shape=(), dtype=tf.resource, name=None)\n",
            "  132065682462032: TensorSpec(shape=(), dtype=tf.resource, name=None)\n",
            "  132065682462800: TensorSpec(shape=(), dtype=tf.resource, name=None)\n",
            "  132065682461648: TensorSpec(shape=(), dtype=tf.resource, name=None)\n",
            "  132065682461456: TensorSpec(shape=(), dtype=tf.resource, name=None)\n",
            "  132065682462224: TensorSpec(shape=(), dtype=tf.resource, name=None)\n",
            "  132065682464144: TensorSpec(shape=(), dtype=tf.resource, name=None)\n",
            "  132065682465104: TensorSpec(shape=(), dtype=tf.resource, name=None)\n",
            "  132065682464336: TensorSpec(shape=(), dtype=tf.resource, name=None)\n",
            "  132065682462992: TensorSpec(shape=(), dtype=tf.resource, name=None)\n",
            "  132065682466064: TensorSpec(shape=(), dtype=tf.resource, name=None)\n",
            "  132065682465680: TensorSpec(shape=(), dtype=tf.resource, name=None)\n",
            "  132065682467024: TensorSpec(shape=(), dtype=tf.resource, name=None)\n",
            "  132065682466256: TensorSpec(shape=(), dtype=tf.resource, name=None)\n",
            "  132065682463952: TensorSpec(shape=(), dtype=tf.resource, name=None)\n",
            "  132065682467984: TensorSpec(shape=(), dtype=tf.resource, name=None)\n",
            "  132065682468176: TensorSpec(shape=(), dtype=tf.resource, name=None)\n",
            "  132065682466448: TensorSpec(shape=(), dtype=tf.resource, name=None)\n",
            "  132065682468560: TensorSpec(shape=(), dtype=tf.resource, name=None)\n",
            "  132065682464528: TensorSpec(shape=(), dtype=tf.resource, name=None)\n",
            "  132065682469712: TensorSpec(shape=(), dtype=tf.resource, name=None)\n",
            "  132065682470480: TensorSpec(shape=(), dtype=tf.resource, name=None)\n",
            "  132065682469328: TensorSpec(shape=(), dtype=tf.resource, name=None)\n",
            "  132065682469136: TensorSpec(shape=(), dtype=tf.resource, name=None)\n",
            "  132065682469904: TensorSpec(shape=(), dtype=tf.resource, name=None)\n",
            "  132065682471056: TensorSpec(shape=(), dtype=tf.resource, name=None)\n",
            "  132065682471632: TensorSpec(shape=(), dtype=tf.resource, name=None)\n",
            "  132065682472016: TensorSpec(shape=(), dtype=tf.resource, name=None)\n",
            "  132065682470672: TensorSpec(shape=(), dtype=tf.resource, name=None)\n",
            "  132065682472592: TensorSpec(shape=(), dtype=tf.resource, name=None)\n",
            "  132065682981904: TensorSpec(shape=(), dtype=tf.resource, name=None)\n",
            "  132065682980944: TensorSpec(shape=(), dtype=tf.resource, name=None)\n",
            "  132065682982096: TensorSpec(shape=(), dtype=tf.resource, name=None)\n",
            "  132065682981136: TensorSpec(shape=(), dtype=tf.resource, name=None)\n",
            "  132065682983632: TensorSpec(shape=(), dtype=tf.resource, name=None)\n",
            "  132065682983824: TensorSpec(shape=(), dtype=tf.resource, name=None)\n",
            "  132065682982480: TensorSpec(shape=(), dtype=tf.resource, name=None)\n",
            "  132065682984208: TensorSpec(shape=(), dtype=tf.resource, name=None)\n",
            "  132065682981328: TensorSpec(shape=(), dtype=tf.resource, name=None)\n",
            "  132065682985360: TensorSpec(shape=(), dtype=tf.resource, name=None)\n",
            "  132065682986128: TensorSpec(shape=(), dtype=tf.resource, name=None)\n",
            "  132065682984976: TensorSpec(shape=(), dtype=tf.resource, name=None)\n",
            "  132065682984784: TensorSpec(shape=(), dtype=tf.resource, name=None)\n",
            "  132065682985552: TensorSpec(shape=(), dtype=tf.resource, name=None)\n",
            "  132065682987472: TensorSpec(shape=(), dtype=tf.resource, name=None)\n",
            "  132065682988432: TensorSpec(shape=(), dtype=tf.resource, name=None)\n",
            "  132065682987664: TensorSpec(shape=(), dtype=tf.resource, name=None)\n",
            "  132065682986320: TensorSpec(shape=(), dtype=tf.resource, name=None)\n",
            "  132065682989392: TensorSpec(shape=(), dtype=tf.resource, name=None)\n",
            "  132065682989008: TensorSpec(shape=(), dtype=tf.resource, name=None)\n",
            "  132065682990352: TensorSpec(shape=(), dtype=tf.resource, name=None)\n",
            "  132065682989584: TensorSpec(shape=(), dtype=tf.resource, name=None)\n",
            "  132065682987280: TensorSpec(shape=(), dtype=tf.resource, name=None)\n",
            "  132065682991312: TensorSpec(shape=(), dtype=tf.resource, name=None)\n",
            "  132065682991504: TensorSpec(shape=(), dtype=tf.resource, name=None)\n",
            "  132065682989776: TensorSpec(shape=(), dtype=tf.resource, name=None)\n",
            "  132065682991888: TensorSpec(shape=(), dtype=tf.resource, name=None)\n",
            "  132065682987856: TensorSpec(shape=(), dtype=tf.resource, name=None)\n",
            "  132065682993040: TensorSpec(shape=(), dtype=tf.resource, name=None)\n",
            "  132065682993808: TensorSpec(shape=(), dtype=tf.resource, name=None)\n",
            "  132065682992656: TensorSpec(shape=(), dtype=tf.resource, name=None)\n",
            "  132065682992464: TensorSpec(shape=(), dtype=tf.resource, name=None)\n",
            "  132065682994768: TensorSpec(shape=(), dtype=tf.resource, name=None)\n",
            "  132065682994384: TensorSpec(shape=(), dtype=tf.resource, name=None)\n",
            "  132065682995728: TensorSpec(shape=(), dtype=tf.resource, name=None)\n",
            "  132065682994960: TensorSpec(shape=(), dtype=tf.resource, name=None)\n",
            "  132065682991696: TensorSpec(shape=(), dtype=tf.resource, name=None)\n",
            "  132065682996688: TensorSpec(shape=(), dtype=tf.resource, name=None)\n",
            "  132065682996880: TensorSpec(shape=(), dtype=tf.resource, name=None)\n",
            "  132065682996304: TensorSpec(shape=(), dtype=tf.resource, name=None)\n",
            "  132065682995920: TensorSpec(shape=(), dtype=tf.resource, name=None)\n",
            "  132065682993232: TensorSpec(shape=(), dtype=tf.resource, name=None)\n",
            "  132065681310160: TensorSpec(shape=(), dtype=tf.resource, name=None)\n",
            "  132065681311312: TensorSpec(shape=(), dtype=tf.resource, name=None)\n",
            "  132065681310736: TensorSpec(shape=(), dtype=tf.resource, name=None)\n",
            "  132065681311696: TensorSpec(shape=(), dtype=tf.resource, name=None)\n",
            "  132065681310928: TensorSpec(shape=(), dtype=tf.resource, name=None)\n",
            "  132065681312848: TensorSpec(shape=(), dtype=tf.resource, name=None)\n",
            "  132065681313616: TensorSpec(shape=(), dtype=tf.resource, name=None)\n",
            "  132065681312464: TensorSpec(shape=(), dtype=tf.resource, name=None)\n",
            "  132065681312272: TensorSpec(shape=(), dtype=tf.resource, name=None)\n",
            "  132065681313040: TensorSpec(shape=(), dtype=tf.resource, name=None)\n",
            "  132065681314960: TensorSpec(shape=(), dtype=tf.resource, name=None)\n",
            "  132065681315920: TensorSpec(shape=(), dtype=tf.resource, name=None)\n",
            "  132065681315152: TensorSpec(shape=(), dtype=tf.resource, name=None)\n",
            "  132065681313808: TensorSpec(shape=(), dtype=tf.resource, name=None)\n",
            "  132065681316880: TensorSpec(shape=(), dtype=tf.resource, name=None)\n",
            "  132065681316496: TensorSpec(shape=(), dtype=tf.resource, name=None)\n",
            "  132065681317840: TensorSpec(shape=(), dtype=tf.resource, name=None)\n",
            "  132065681317072: TensorSpec(shape=(), dtype=tf.resource, name=None)\n",
            "  132065681314768: TensorSpec(shape=(), dtype=tf.resource, name=None)\n",
            "  132065681318800: TensorSpec(shape=(), dtype=tf.resource, name=None)\n",
            "  132065681318992: TensorSpec(shape=(), dtype=tf.resource, name=None)\n",
            "  132065681317264: TensorSpec(shape=(), dtype=tf.resource, name=None)\n",
            "  132065681319376: TensorSpec(shape=(), dtype=tf.resource, name=None)\n",
            "  132065681315344: TensorSpec(shape=(), dtype=tf.resource, name=None)\n",
            "  132065681320528: TensorSpec(shape=(), dtype=tf.resource, name=None)\n",
            "  132065681321296: TensorSpec(shape=(), dtype=tf.resource, name=None)\n",
            "  132065681320144: TensorSpec(shape=(), dtype=tf.resource, name=None)\n",
            "  132065681319952: TensorSpec(shape=(), dtype=tf.resource, name=None)\n",
            "  132065681320720: TensorSpec(shape=(), dtype=tf.resource, name=None)\n",
            "  132065681322640: TensorSpec(shape=(), dtype=tf.resource, name=None)\n",
            "  132065681323600: TensorSpec(shape=(), dtype=tf.resource, name=None)\n",
            "  132065681322832: TensorSpec(shape=(), dtype=tf.resource, name=None)\n",
            "  132065681321488: TensorSpec(shape=(), dtype=tf.resource, name=None)\n",
            "  132065681324560: TensorSpec(shape=(), dtype=tf.resource, name=None)\n",
            "  132065681324176: TensorSpec(shape=(), dtype=tf.resource, name=None)\n",
            "  132065681325712: TensorSpec(shape=(), dtype=tf.resource, name=None)\n",
            "  132065681324752: TensorSpec(shape=(), dtype=tf.resource, name=None)\n",
            "  132065681322448: TensorSpec(shape=(), dtype=tf.resource, name=None)\n",
            "  132065681325328: TensorSpec(shape=(), dtype=tf.resource, name=None)\n",
            "  132065681323024: TensorSpec(shape=(), dtype=tf.resource, name=None)\n",
            "  132065681768720: TensorSpec(shape=(), dtype=tf.resource, name=None)\n",
            "  132065681769872: TensorSpec(shape=(), dtype=tf.resource, name=None)\n",
            "  132065681769296: TensorSpec(shape=(), dtype=tf.resource, name=None)\n",
            "  132065681770640: TensorSpec(shape=(), dtype=tf.resource, name=None)\n",
            "  132065681771408: TensorSpec(shape=(), dtype=tf.resource, name=None)\n",
            "  132065681770256: TensorSpec(shape=(), dtype=tf.resource, name=None)\n",
            "  132065681770064: TensorSpec(shape=(), dtype=tf.resource, name=None)\n",
            "  132065681770832: TensorSpec(shape=(), dtype=tf.resource, name=None)\n",
            "  132065681772752: TensorSpec(shape=(), dtype=tf.resource, name=None)\n",
            "  132065681773712: TensorSpec(shape=(), dtype=tf.resource, name=None)\n",
            "  132065681772944: TensorSpec(shape=(), dtype=tf.resource, name=None)\n",
            "  132065681771600: TensorSpec(shape=(), dtype=tf.resource, name=None)\n",
            "  132065681774672: TensorSpec(shape=(), dtype=tf.resource, name=None)\n",
            "  132065681774288: TensorSpec(shape=(), dtype=tf.resource, name=None)\n",
            "  132065681775632: TensorSpec(shape=(), dtype=tf.resource, name=None)\n",
            "  132065681774864: TensorSpec(shape=(), dtype=tf.resource, name=None)\n",
            "  132065681772560: TensorSpec(shape=(), dtype=tf.resource, name=None)\n",
            "  132065681776592: TensorSpec(shape=(), dtype=tf.resource, name=None)\n",
            "  132065681776784: TensorSpec(shape=(), dtype=tf.resource, name=None)\n",
            "  132065681775056: TensorSpec(shape=(), dtype=tf.resource, name=None)\n",
            "  132065681777168: TensorSpec(shape=(), dtype=tf.resource, name=None)\n",
            "  132065681773136: TensorSpec(shape=(), dtype=tf.resource, name=None)\n",
            "  132065681778320: TensorSpec(shape=(), dtype=tf.resource, name=None)\n",
            "  132065681779088: TensorSpec(shape=(), dtype=tf.resource, name=None)\n",
            "  132065681777936: TensorSpec(shape=(), dtype=tf.resource, name=None)\n",
            "  132065681777744: TensorSpec(shape=(), dtype=tf.resource, name=None)\n",
            "  132065681778512: TensorSpec(shape=(), dtype=tf.resource, name=None)\n",
            "  132065681780432: TensorSpec(shape=(), dtype=tf.resource, name=None)\n",
            "  132065681781392: TensorSpec(shape=(), dtype=tf.resource, name=None)\n",
            "  132065681780624: TensorSpec(shape=(), dtype=tf.resource, name=None)\n",
            "  132065681779280: TensorSpec(shape=(), dtype=tf.resource, name=None)\n",
            "  132065681782352: TensorSpec(shape=(), dtype=tf.resource, name=None)\n",
            "  132065681781968: TensorSpec(shape=(), dtype=tf.resource, name=None)\n",
            "  132065681783312: TensorSpec(shape=(), dtype=tf.resource, name=None)\n",
            "  132065681782544: TensorSpec(shape=(), dtype=tf.resource, name=None)\n",
            "  132065681780240: TensorSpec(shape=(), dtype=tf.resource, name=None)\n",
            "  132065681784272: TensorSpec(shape=(), dtype=tf.resource, name=None)\n",
            "  132065681783504: TensorSpec(shape=(), dtype=tf.resource, name=None)\n",
            "  132065681784464: TensorSpec(shape=(), dtype=tf.resource, name=None)\n",
            "  132065681780816: TensorSpec(shape=(), dtype=tf.resource, name=None)\n",
            "  132065681783888: TensorSpec(shape=(), dtype=tf.resource, name=None)\n",
            "  132065411695440: TensorSpec(shape=(), dtype=tf.resource, name=None)\n",
            "  132065411696592: TensorSpec(shape=(), dtype=tf.resource, name=None)\n",
            "  132065411696016: TensorSpec(shape=(), dtype=tf.resource, name=None)\n",
            "  132065411695248: TensorSpec(shape=(), dtype=tf.resource, name=None)\n",
            "  132065411696400: TensorSpec(shape=(), dtype=tf.resource, name=None)\n",
            "  132065411697936: TensorSpec(shape=(), dtype=tf.resource, name=None)\n",
            "  132065411698896: TensorSpec(shape=(), dtype=tf.resource, name=None)\n",
            "  132065411698128: TensorSpec(shape=(), dtype=tf.resource, name=None)\n",
            "  132065411696784: TensorSpec(shape=(), dtype=tf.resource, name=None)\n",
            "  132065411699856: TensorSpec(shape=(), dtype=tf.resource, name=None)\n",
            "  132065411699472: TensorSpec(shape=(), dtype=tf.resource, name=None)\n",
            "  132065411700816: TensorSpec(shape=(), dtype=tf.resource, name=None)\n",
            "  132065411700048: TensorSpec(shape=(), dtype=tf.resource, name=None)\n",
            "  132065411697744: TensorSpec(shape=(), dtype=tf.resource, name=None)\n",
            "  132065411701776: TensorSpec(shape=(), dtype=tf.resource, name=None)\n",
            "  132065411701968: TensorSpec(shape=(), dtype=tf.resource, name=None)\n",
            "  132065411700240: TensorSpec(shape=(), dtype=tf.resource, name=None)\n",
            "  132065411702352: TensorSpec(shape=(), dtype=tf.resource, name=None)\n",
            "  132065411698320: TensorSpec(shape=(), dtype=tf.resource, name=None)\n",
            "  132065411703504: TensorSpec(shape=(), dtype=tf.resource, name=None)\n",
            "  132065411704272: TensorSpec(shape=(), dtype=tf.resource, name=None)\n",
            "  132065411703120: TensorSpec(shape=(), dtype=tf.resource, name=None)\n",
            "  132065411702928: TensorSpec(shape=(), dtype=tf.resource, name=None)\n",
            "  132065411705232: TensorSpec(shape=(), dtype=tf.resource, name=None)\n",
            "  132065411704848: TensorSpec(shape=(), dtype=tf.resource, name=None)\n",
            "  132065411706192: TensorSpec(shape=(), dtype=tf.resource, name=None)\n",
            "  132065411705424: TensorSpec(shape=(), dtype=tf.resource, name=None)\n",
            "  132065411702160: TensorSpec(shape=(), dtype=tf.resource, name=None)\n",
            "  132065411707152: TensorSpec(shape=(), dtype=tf.resource, name=None)\n",
            "  132065411706768: TensorSpec(shape=(), dtype=tf.resource, name=None)\n",
            "  132065411708112: TensorSpec(shape=(), dtype=tf.resource, name=None)\n",
            "  132065411707344: TensorSpec(shape=(), dtype=tf.resource, name=None)\n",
            "  132065411697168: TensorSpec(shape=(), dtype=tf.resource, name=None)\n",
            "  132065411709072: TensorSpec(shape=(), dtype=tf.resource, name=None)\n",
            "  132065411709264: TensorSpec(shape=(), dtype=tf.resource, name=None)\n",
            "  132065411707536: TensorSpec(shape=(), dtype=tf.resource, name=None)\n",
            "  132065411709648: TensorSpec(shape=(), dtype=tf.resource, name=None)\n",
            "  132065411705616: TensorSpec(shape=(), dtype=tf.resource, name=None)\n",
            "  132065411710416: TensorSpec(shape=(), dtype=tf.resource, name=None)\n",
            "  132065411709456: TensorSpec(shape=(), dtype=tf.resource, name=None)\n",
            "  132065412137808: TensorSpec(shape=(), dtype=tf.resource, name=None)\n",
            "  132065412139152: TensorSpec(shape=(), dtype=tf.resource, name=None)\n",
            "  132065412137040: TensorSpec(shape=(), dtype=tf.resource, name=None)\n",
            "  132065412138576: TensorSpec(shape=(), dtype=tf.resource, name=None)\n",
            "  132065412139728: TensorSpec(shape=(), dtype=tf.resource, name=None)\n",
            "  132065412138768: TensorSpec(shape=(), dtype=tf.resource, name=None)\n",
            "  132065412137232: TensorSpec(shape=(), dtype=tf.resource, name=None)\n",
            "  132065412138960: TensorSpec(shape=(), dtype=tf.resource, name=None)\n",
            "  132065412141840: TensorSpec(shape=(), dtype=tf.resource, name=None)\n"
          ]
        }
      ]
    },
    {
      "cell_type": "code",
      "source": [
        "# Save tflite model\n",
        "with open(TFLITE_MODEL_PATH, 'wb') as f:\n",
        "        f.write(tflite_model)\n",
        "print(f\"Model saved to:\\n{TFLITE_MODEL_PATH}\")"
      ],
      "metadata": {
        "colab": {
          "base_uri": "https://localhost:8080/"
        },
        "id": "RgOcahz1Z6Yj",
        "outputId": "78341752-d79c-465e-bd39-c77c007d0efc"
      },
      "execution_count": 6,
      "outputs": [
        {
          "output_type": "stream",
          "name": "stdout",
          "text": [
            "Model saved to:\n",
            "/content/drive/MyDrive/TensorFlow_Projects/PlantVision_Project/model_checkpoints/best_102_flowes_model_fine_tuned_2.tflite\n"
          ]
        }
      ]
    },
    {
      "cell_type": "markdown",
      "source": [
        "### Check prediction of TFLite model"
      ],
      "metadata": {
        "id": "k47Jq9h9bL3i"
      }
    },
    {
      "cell_type": "code",
      "source": [
        "image_path = \"/content/drive/MyDrive/TensorFlow_Projects/PlantVision_Project/custom_images/bromelia2.jpeg\""
      ],
      "metadata": {
        "id": "qkj7g1B1bFCZ"
      },
      "execution_count": 7,
      "outputs": []
    },
    {
      "cell_type": "code",
      "source": [
        "# Preprocessing the image\n",
        "\n",
        "image_size = (300, 300)\n",
        "\n",
        "img_bytes = tf.io.read_file(image_path)\n",
        "img_arr = tf.image.decode_image(img_bytes, channels=3)\n",
        "img_arr = tf.image.resize(img_arr, image_size)\n",
        "\n",
        "input_img_arr = tf.expand_dims(img_arr, axis=0)"
      ],
      "metadata": {
        "id": "uhpoW67WbY5l"
      },
      "execution_count": 8,
      "outputs": []
    },
    {
      "cell_type": "code",
      "source": [
        "input_img_arr"
      ],
      "metadata": {
        "colab": {
          "base_uri": "https://localhost:8080/"
        },
        "id": "Z_xlhVh_eSkl",
        "outputId": "63e42c1d-ac02-4937-acf9-771987568a3e"
      },
      "execution_count": 9,
      "outputs": [
        {
          "output_type": "execute_result",
          "data": {
            "text/plain": [
              "<tf.Tensor: shape=(1, 300, 300, 3), dtype=float32, numpy=\n",
              "array([[[[209.      , 212.      , 159.      ],\n",
              "         [196.5     , 199.5     , 146.5     ],\n",
              "         [184.875   , 186.75    , 134.875   ],\n",
              "         ...,\n",
              "         [105.25    , 131.875   ,  57.125   ],\n",
              "         [104.5     , 130.375   ,  50.75    ],\n",
              "         [112.      , 136.      ,  52.      ]],\n",
              "\n",
              "        [[210.25    , 213.25    , 157.75    ],\n",
              "         [198.92188 , 201.92188 , 147.20312 ],\n",
              "         [187.29688 , 189.875   , 136.04688 ],\n",
              "         ...,\n",
              "         [107.515625, 132.96875 ,  59.390625],\n",
              "         [106.765625, 131.23438 ,  53.71875 ],\n",
              "         [110.75    , 134.125   ,  52.625   ]],\n",
              "\n",
              "        [[190.75    , 194.875   , 135.25    ],\n",
              "         [187.625   , 191.75    , 132.90625 ],\n",
              "         [185.14062 , 189.26562 , 131.17188 ],\n",
              "         ...,\n",
              "         [109.71875 , 134.23438 ,  61.546875],\n",
              "         [107.5625  , 130.67188 ,  56.4375  ],\n",
              "         [104.75    , 127.      ,  51.125   ]],\n",
              "\n",
              "        ...,\n",
              "\n",
              "        [[175.5     , 213.625   ,  55.625   ],\n",
              "         [169.25    , 206.35938 ,  50.625   ],\n",
              "         [163.53125 , 199.32812 ,  48.09375 ],\n",
              "         ...,\n",
              "         [200.29688 , 182.59375 , 156.625   ],\n",
              "         [243.375   , 228.01562 , 204.76562 ],\n",
              "         [234.      , 222.      , 200.      ]],\n",
              "\n",
              "        [[169.5     , 205.      ,  50.375   ],\n",
              "         [167.46875 , 201.25    ,  50.296875],\n",
              "         [165.82812 , 196.60938 ,  53.109375],\n",
              "         ...,\n",
              "         [168.375   , 149.64062 , 123.015625],\n",
              "         [226.21875 , 210.25    , 187.1875  ],\n",
              "         [237.      , 224.625   , 203.75    ]],\n",
              "\n",
              "        [[157.      , 190.      ,  41.      ],\n",
              "         [165.125   , 195.625   ,  52.25    ],\n",
              "         [172.625   , 198.25    ,  65.375   ],\n",
              "         ...,\n",
              "         [128.375   , 108.      ,  80.75    ],\n",
              "         [191.375   , 174.      , 151.25    ],\n",
              "         [242.      , 229.      , 210.      ]]]], dtype=float32)>"
            ]
          },
          "metadata": {},
          "execution_count": 9
        }
      ]
    },
    {
      "cell_type": "code",
      "source": [
        "# Initialize interpreter\n",
        "interpreter = tf.lite.Interpreter(model_content=tflite_model)\n",
        "interpreter.allocate_tensors()\n",
        "\n",
        "# Get input output details\n",
        "input_details = interpreter.get_input_details()\n",
        "output_details = interpreter.get_output_details()\n",
        "print(\"\\nModel input shape:\", input_details[0]['shape'])"
      ],
      "metadata": {
        "colab": {
          "base_uri": "https://localhost:8080/"
        },
        "id": "T3tqz2xBcdEl",
        "outputId": "94f3fde8-38c8-4900-bb57-76a3b6675ce8"
      },
      "execution_count": 10,
      "outputs": [
        {
          "output_type": "stream",
          "name": "stdout",
          "text": [
            "\n",
            "Model input shape: [  1 300 300   3]\n"
          ]
        }
      ]
    },
    {
      "cell_type": "code",
      "source": [
        "# Run inference\n",
        "interpreter.set_tensor(input_details[0]['index'], input_img_arr)\n",
        "interpreter.invoke()\n",
        "predictions = interpreter.get_tensor(output_details[0]['index'])"
      ],
      "metadata": {
        "id": "0gedaT-8dFcL"
      },
      "execution_count": 11,
      "outputs": []
    },
    {
      "cell_type": "code",
      "source": [
        "predictions"
      ],
      "metadata": {
        "colab": {
          "base_uri": "https://localhost:8080/"
        },
        "id": "DN2kPH-BddmN",
        "outputId": "76f7ab33-9540-4b92-f7f7-6d31da0ac301"
      },
      "execution_count": 13,
      "outputs": [
        {
          "output_type": "execute_result",
          "data": {
            "text/plain": [
              "array([[5.69111489e-06, 1.01257128e-05, 1.09913581e-05, 5.13146142e-06,\n",
              "        6.46148510e-06, 7.06304054e-05, 6.37469711e-05, 8.04384938e-04,\n",
              "        3.39219478e-05, 4.14809474e-05, 3.07058435e-05, 4.77442736e-05,\n",
              "        8.12278711e-04, 2.71316472e-04, 1.05563871e-04, 8.71187694e-06,\n",
              "        7.09761298e-05, 5.74782207e-05, 4.25061298e-05, 7.59235190e-05,\n",
              "        3.45572371e-05, 2.08172296e-05, 4.08638851e-04, 7.02968740e-04,\n",
              "        6.28813577e-05, 5.54926119e-05, 4.15214745e-05, 1.56165741e-04,\n",
              "        1.23978744e-03, 5.11721300e-05, 6.33126838e-05, 2.02557239e-05,\n",
              "        7.04237827e-05, 1.70887564e-04, 2.30636055e-04, 8.76866325e-05,\n",
              "        1.21425837e-05, 5.56365587e-04, 8.86036083e-04, 1.63764646e-03,\n",
              "        1.01025289e-04, 1.36743256e-04, 1.21325422e-04, 6.09467133e-05,\n",
              "        5.29334648e-04, 9.45806532e-05, 1.17248630e-04, 1.60235941e-05,\n",
              "        1.08172841e-04, 2.13108997e-05, 1.13829458e-06, 1.74956604e-05,\n",
              "        1.30525586e-05, 9.76306255e-05, 1.95559824e-05, 1.07593391e-04,\n",
              "        8.42450972e-05, 2.39101655e-06, 1.72522443e-04, 2.13525636e-05,\n",
              "        7.61576404e-04, 7.85634184e-05, 8.82019303e-05, 3.65710766e-05,\n",
              "        8.79737036e-06, 2.39626024e-04, 1.12536894e-04, 6.97289943e-06,\n",
              "        1.16393021e-04, 4.45895676e-05, 3.30813671e-03, 1.11209201e-05,\n",
              "        6.19762228e-04, 6.17856858e-05, 3.47263849e-05, 1.19386146e-04,\n",
              "        1.02097020e-02, 1.47350249e-04, 1.80978604e-04, 1.37057077e-05,\n",
              "        4.38126153e-05, 5.03125484e-04, 1.57751711e-05, 1.91011524e-04,\n",
              "        5.74953901e-03, 2.98193081e-05, 2.46464158e-04, 6.48774294e-05,\n",
              "        6.22609787e-06, 8.49058415e-05, 2.22429226e-04, 8.65804614e-05,\n",
              "        9.43180523e-04, 1.56547467e-04, 4.11983492e-05, 4.66838501e-05,\n",
              "        2.95295213e-05, 5.69196454e-05, 9.63154018e-01, 4.81259282e-04,\n",
              "        3.40879888e-05, 6.82672719e-04]], dtype=float32)"
            ]
          },
          "metadata": {},
          "execution_count": 13
        }
      ]
    },
    {
      "cell_type": "code",
      "source": [
        "import numpy as np\n",
        "\n",
        "predicted_class = np.argmax(predictions)\n",
        "confidence = np.max(predictions)"
      ],
      "metadata": {
        "id": "nbHrUldffUEO"
      },
      "execution_count": 15,
      "outputs": []
    },
    {
      "cell_type": "code",
      "source": [
        "predicted_class, confidence"
      ],
      "metadata": {
        "colab": {
          "base_uri": "https://localhost:8080/"
        },
        "id": "D0WU941ugBYG",
        "outputId": "3dd65408-5a9c-4380-9a51-adaa68243f32"
      },
      "execution_count": 17,
      "outputs": [
        {
          "output_type": "execute_result",
          "data": {
            "text/plain": [
              "(np.int64(98), np.float32(0.963154))"
            ]
          },
          "metadata": {},
          "execution_count": 17
        }
      ]
    },
    {
      "cell_type": "code",
      "source": [
        "print(f\"Class: {predicted_class} (Confidence: {confidence:.2%})\")"
      ],
      "metadata": {
        "colab": {
          "base_uri": "https://localhost:8080/"
        },
        "id": "MgoYmR1ogGXI",
        "outputId": "6aa2a99b-0376-4428-92d9-8b535e6e82e0"
      },
      "execution_count": 18,
      "outputs": [
        {
          "output_type": "stream",
          "name": "stdout",
          "text": [
            "Class: 98 (Confidence: 96.32%)\n"
          ]
        }
      ]
    },
    {
      "cell_type": "markdown",
      "source": [
        "### Compare prediction of TFlite model with the keras model"
      ],
      "metadata": {
        "id": "g-MauPHhgVSb"
      }
    },
    {
      "cell_type": "code",
      "source": [
        "# Prediction using keras model\n",
        "keras_pred = keras_model.predict(input_img_arr)\n",
        "keras_pred"
      ],
      "metadata": {
        "colab": {
          "base_uri": "https://localhost:8080/"
        },
        "id": "Rb7Rmbm4gNBa",
        "outputId": "0d4dd65f-46f2-4e86-a7b3-a65b332a63ea"
      },
      "execution_count": 19,
      "outputs": [
        {
          "output_type": "stream",
          "name": "stdout",
          "text": [
            "\u001b[1m1/1\u001b[0m \u001b[32m━━━━━━━━━━━━━━━━━━━━\u001b[0m\u001b[37m\u001b[0m \u001b[1m7s\u001b[0m 7s/step\n"
          ]
        },
        {
          "output_type": "execute_result",
          "data": {
            "text/plain": [
              "array([[5.77862147e-06, 1.02814065e-05, 1.11385853e-05, 5.21036327e-06,\n",
              "        6.54803716e-06, 7.16464347e-05, 6.42234445e-05, 8.15956155e-04,\n",
              "        3.43763350e-05, 4.21187651e-05, 3.11171498e-05, 4.83365839e-05,\n",
              "        8.25574389e-04, 2.76330305e-04, 1.07344174e-04, 8.84583278e-06,\n",
              "        7.21378747e-05, 5.81912827e-05, 4.29914471e-05, 7.69405015e-05,\n",
              "        3.49859511e-05, 2.10960770e-05, 4.13910428e-04, 7.13080983e-04,\n",
              "        6.35372417e-05, 5.60714143e-05, 4.22423436e-05, 1.57794595e-04,\n",
              "        1.26377761e-03, 5.17564004e-05, 6.42861924e-05, 2.05270462e-05,\n",
              "        7.12974434e-05, 1.71745021e-04, 2.34071587e-04, 8.89045841e-05,\n",
              "        1.23052332e-05, 5.59977023e-04, 8.93530843e-04, 1.64827658e-03,\n",
              "        1.02228667e-04, 1.38270800e-04, 1.22890546e-04, 6.14622477e-05,\n",
              "        5.34072926e-04, 9.51481052e-05, 1.19342476e-04, 1.62382312e-05,\n",
              "        1.09247761e-04, 2.16385797e-05, 1.15129114e-06, 1.76954218e-05,\n",
              "        1.31758288e-05, 9.88900865e-05, 1.97406680e-05, 1.08556495e-04,\n",
              "        8.49577118e-05, 2.42778128e-06, 1.74364453e-04, 2.15963573e-05,\n",
              "        7.71777646e-04, 7.91506245e-05, 8.90783922e-05, 3.70971538e-05,\n",
              "        8.91521177e-06, 2.40784299e-04, 1.13988652e-04, 7.09395727e-06,\n",
              "        1.17664466e-04, 4.51427331e-05, 3.33937933e-03, 1.13361111e-05,\n",
              "        6.23176224e-04, 6.24911336e-05, 3.51571944e-05, 1.20454803e-04,\n",
              "        1.02860117e-02, 1.47692452e-04, 1.82843942e-04, 1.39164476e-05,\n",
              "        4.42695928e-05, 5.08373312e-04, 1.59864794e-05, 1.91899700e-04,\n",
              "        5.79251256e-03, 3.01597720e-05, 2.48503435e-04, 6.52348244e-05,\n",
              "        6.33419131e-06, 8.64220929e-05, 2.25394877e-04, 8.80406005e-05,\n",
              "        9.56748147e-04, 1.58257564e-04, 4.14657770e-05, 4.70787418e-05,\n",
              "        2.99835738e-05, 5.75695231e-05, 9.62801695e-01, 4.86516423e-04,\n",
              "        3.44771943e-05, 6.88447210e-04]], dtype=float32)"
            ]
          },
          "metadata": {},
          "execution_count": 19
        }
      ]
    },
    {
      "cell_type": "code",
      "source": [
        "keras_predicted_class = np.argmax(keras_pred)\n",
        "keras_confidence = np.max(keras_pred)\n",
        "\n",
        "print(f\"Prediction with keras model \\nClass: {keras_predicted_class} (Confidence: {keras_confidence:.2%})\")"
      ],
      "metadata": {
        "colab": {
          "base_uri": "https://localhost:8080/"
        },
        "id": "-FDnoE3KgsAJ",
        "outputId": "034060a4-887d-468f-9047-37b8f2d33146"
      },
      "execution_count": 20,
      "outputs": [
        {
          "output_type": "stream",
          "name": "stdout",
          "text": [
            "Prediction with keras model \n",
            "Class: 98 (Confidence: 96.28%)\n"
          ]
        }
      ]
    },
    {
      "cell_type": "code",
      "source": [
        "# Check some more values\n",
        "tflite_pred = predictions\n",
        "\n",
        "# Print first 5 values\n",
        "print(f\"Keras output: {keras_pred[0][:5]}...\")\n",
        "print(f\"TFLite output: {tflite_pred[0][:5]}...\")\n",
        ""
      ],
      "metadata": {
        "colab": {
          "base_uri": "https://localhost:8080/"
        },
        "id": "rh3d-nMOhPYg",
        "outputId": "b1ddd1f7-995e-454b-b2e0-09b6215a45da"
      },
      "execution_count": 21,
      "outputs": [
        {
          "output_type": "stream",
          "name": "stdout",
          "text": [
            "Keras output: [5.77862147e-06 1.02814065e-05 1.11385853e-05 5.21036327e-06\n",
            " 6.54803716e-06]...\n",
            "TFLite output: [5.6911149e-06 1.0125713e-05 1.0991358e-05 5.1314614e-06 6.4614851e-06]...\n"
          ]
        }
      ]
    },
    {
      "cell_type": "markdown",
      "source": [
        "Almost Same!!\n",
        "\n",
        "And predicted class from tflite and keras model are same."
      ],
      "metadata": {
        "id": "PaANrHW9hxIT"
      }
    },
    {
      "cell_type": "code",
      "source": [],
      "metadata": {
        "id": "lesGGeGOhson"
      },
      "execution_count": null,
      "outputs": []
    }
  ]
}